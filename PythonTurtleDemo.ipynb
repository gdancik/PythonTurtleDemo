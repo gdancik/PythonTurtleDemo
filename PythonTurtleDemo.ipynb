{
  "nbformat": 4,
  "nbformat_minor": 0,
  "metadata": {
    "colab": {
      "provenance": []
    },
    "kernelspec": {
      "name": "python3",
      "display_name": "Python 3"
    },
    "language_info": {
      "name": "python"
    }
  },
  "cells": [
    {
      "cell_type": "markdown",
      "source": [
        "# Quick introduction to Python\n",
        "\n",
        "Computer code consists of instructions that a computer can understand.\n",
        "\n",
        "For example, the following statement is an instruction that tells the computer to output the text 'Hello, World!'\n",
        "\n",
        "A hashtag (#) is used to denote a *comment*, which is ignored by the computer."
      ],
      "metadata": {
        "id": "cOubFBz2iwpb"
      }
    },
    {
      "cell_type": "code",
      "source": [
        "# The print statement outputs the value of one or more objects. In this case, we output the string, 'Hello, World!'\n",
        "print('Hello, World!')"
      ],
      "metadata": {
        "id": "B2R-CCEajUhA"
      },
      "execution_count": null,
      "outputs": []
    },
    {
      "cell_type": "markdown",
      "source": [
        "The following statements contain instructions that tell the computer to store the value 3 in *x*, the value 4 in *y*, and to output the sum of *x* + *y*."
      ],
      "metadata": {
        "id": "W_huBdd4jYYl"
      }
    },
    {
      "cell_type": "code",
      "source": [
        "x = 3 # assign the value 3 to 'x'\n",
        "y = 4 # assign the value 4 to 'y'\n",
        "\n",
        "# output the sum (output the text 'The sum of', followed by the value of x, followed by 'and', etc)\n",
        "print('The sum of', x, 'and', y, 'is', x + y)"
      ],
      "metadata": {
        "id": "uTktQClfjmRH"
      },
      "execution_count": null,
      "outputs": []
    },
    {
      "cell_type": "markdown",
      "source": [
        "The following statements contain instructions that tell the computer to do the following:\n",
        "\n",
        "```python\n",
        "Repeat 4 times:\n",
        "- output 'Hi'\n",
        "```"
      ],
      "metadata": {
        "id": "F0ZegYRYjsRU"
      }
    },
    {
      "cell_type": "code",
      "source": [
        "for i in range(4) :   # for 'i' ranging from 0, 1, 2, and 3\n",
        "  print('Hi') # print 'Hi'"
      ],
      "metadata": {
        "id": "TqpWPxFtkPwF"
      },
      "execution_count": null,
      "outputs": []
    },
    {
      "cell_type": "markdown",
      "source": [
        "## Quick introduction to ColabTurtle\n",
        "\n",
        "The *ColabTurtle* module can be used to direct a turtle to draw on the screen. Some possible commands include the following:\n",
        "\n",
        "- initializeTurtle(): constructs the canvas\n",
        "- speed(*x*): set the turtle's speed to an integer from 1 (slowest) to 13 (fastest)\n",
        "- forward(*x*): move forward *x* units\n",
        "- back(*x*): move backward *x* units\n",
        "- left(*x*): turn left *x* degrees\n",
        "- right(*x*): turn right *x* degrees\n",
        "- color(*c*): change the turtle's color to *c* (e.g., 'blue')\n",
        "- bgcolor(*c*): change the background color to *c* (e.g., 'blue')\n",
        "\n",
        "\n",
        "\n",
        "We first need to install the module, and import it."
      ],
      "metadata": {
        "id": "7lkZx9kZnpwJ"
      }
    },
    {
      "cell_type": "code",
      "execution_count": null,
      "metadata": {
        "id": "cPgp_2v5iTno"
      },
      "outputs": [],
      "source": [
        "!pip install ColabTurtle\n",
        "from ColabTurtle.Turtle import *"
      ]
    },
    {
      "cell_type": "markdown",
      "source": [
        "The following are instructions for telling the turtle to draw a square (using a loop)."
      ],
      "metadata": {
        "id": "hibudXxTpTOk"
      }
    },
    {
      "cell_type": "code",
      "source": [
        "# draw a new canvas\n",
        "initializeTurtle(initial_speed = 10)\n",
        "\n",
        "# repeat 4 times\n",
        "for i in range(4):\n",
        "  forward(100)   # move forward 100 units\n",
        "  right(90)      # turn right 90 degrees\n"
      ],
      "metadata": {
        "id": "LAGNcAeln83K"
      },
      "execution_count": null,
      "outputs": []
    },
    {
      "cell_type": "markdown",
      "source": [
        "## Coding in the age of AI\n",
        "\n",
        "- In any code cell, click the Gemini (star) icon for available AI features. Select Explain Code to get an explanation of the code (great for learning!)\n",
        "- In a new (or empty) code cell, click *generate* and write a prompt to generate code with AI. After the code is generated, look it over to make sure it makes sense. AI can make mistakes."
      ],
      "metadata": {
        "id": "mXgOCxnwqJAk"
      }
    },
    {
      "cell_type": "code",
      "source": [],
      "metadata": {
        "id": "JrM00kE1n8un"
      },
      "execution_count": null,
      "outputs": []
    }
  ]
}